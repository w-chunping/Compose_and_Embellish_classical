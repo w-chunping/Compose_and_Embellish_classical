{
 "cells": [
  {
   "cell_type": "code",
   "execution_count": 1,
   "metadata": {},
   "outputs": [],
   "source": [
    "from dataloader import REMISkylineToMidiTransformerDataset, pickle_load"
   ]
  },
  {
   "cell_type": "code",
   "execution_count": 2,
   "metadata": {},
   "outputs": [],
   "source": [
    "import torch\n",
    "import sys, yaml\n",
    "train_conf_path = \"/home/yihsin/MidiStyleTransfer/Compose_and_Embellish_classical/stage02_embellish/config/gp_gpt2.yaml\"\n",
    "with open(train_conf_path, 'r') as stream:\n",
    "    train_conf = yaml.safe_load(stream)\n",
    "\n",
    "train_conf_: dict = train_conf['training']\n",
    "\n",
    "gpuid = train_conf_['gpuid']\n",
    "torch.cuda.set_device(gpuid)\n",
    "\n",
    "warmup_steps = train_conf_['warmup_steps']\n",
    "max_lr = train_conf_['lr']\n",
    "min_lr = train_conf_['lr_scheduler']['eta_min']\n",
    "lr_decay_steps = train_conf_['lr_scheduler']['T_max']\n",
    "redraw_prob = train_conf_.get('feat_redraw_prob', 0.0)\n",
    "max_epochs = train_conf_['num_epochs']\n",
    "batch_size = train_conf['data_loader']['batch_size']\n",
    "train_split = train_conf['data_loader']['train_split']\n",
    "val_split = train_conf['data_loader']['val_split']\n",
    "\n",
    "ckpt_dir = train_conf_['ckpt_dir']\n",
    "pretrained_param_path = train_conf_['trained_params']\n",
    "pretrained_optimizer_path = train_conf_['trained_optim']\n",
    "ckpt_interval = train_conf_['ckpt_interval']\n",
    "val_interval = 1\n",
    "log_interval = train_conf_['log_interval']\n",
    "accum_steps = train_conf_.get(\"accum_steps\", 1)\n",
    "\n",
    "use_chord_emb = False"
   ]
  },
  {
   "cell_type": "code",
   "execution_count": 3,
   "metadata": {},
   "outputs": [],
   "source": [
    "split_pth = \"/home/yihsin/MidiStyleTransfer/Compose_and_Embellish_classical/stage02_embellish/pkl/composer_split.pkl\""
   ]
  },
  {
   "cell_type": "code",
   "execution_count": 4,
   "metadata": {},
   "outputs": [
    {
     "name": "stdout",
     "output_type": "stream",
     "text": [
      "/home/yihsin/MidiStyleTransfer/Compose_and_Embellish_classical\n"
     ]
    }
   ],
   "source": [
    "%cd .."
   ]
  },
  {
   "cell_type": "code",
   "execution_count": 5,
   "metadata": {},
   "outputs": [
    {
     "name": "stdout",
     "output_type": "stream",
     "text": [
      "composers:['Bach_JohannSebastian'] total pieces:117\n",
      "['/home/yihsin/MidiStyleTransfer/dataset/gp-piano-parsed/ -OqSGhlsdgQ.pkl', '/home/yihsin/MidiStyleTransfer/dataset/gp-piano-parsed/ -_6JYI6H1C8.pkl', '/home/yihsin/MidiStyleTransfer/dataset/gp-piano-parsed/ -v5tAtl2KjQ.pkl', '/home/yihsin/MidiStyleTransfer/dataset/gp-piano-parsed/ 02zSKrRQRjM.pkl', '/home/yihsin/MidiStyleTransfer/dataset/gp-piano-parsed/ 0KQW2YnCUrE.pkl', '/home/yihsin/MidiStyleTransfer/dataset/gp-piano-parsed/ 0RZ5N6hVYA8.pkl', '/home/yihsin/MidiStyleTransfer/dataset/gp-piano-parsed/ 0YsHo4-HLlM.pkl', '/home/yihsin/MidiStyleTransfer/dataset/gp-piano-parsed/ 0lx-kPXgPw8.pkl', '/home/yihsin/MidiStyleTransfer/dataset/gp-piano-parsed/ 0xW-dH0a23s.pkl', '/home/yihsin/MidiStyleTransfer/dataset/gp-piano-parsed/ 15ezpwCHtJs.pkl', '/home/yihsin/MidiStyleTransfer/dataset/gp-piano-parsed/ 1Eya7xi4GoU.pkl', '/home/yihsin/MidiStyleTransfer/dataset/gp-piano-parsed/ 1_kE609bA7g.pkl', '/home/yihsin/MidiStyleTransfer/dataset/gp-piano-parsed/ 1lvTBkXf468.pkl', '/home/yihsin/MidiStyleTransfer/dataset/gp-piano-parsed/ 1wovG2n62qU.pkl', '/home/yihsin/MidiStyleTransfer/dataset/gp-piano-parsed/ 1ytvth9cXeo.pkl', '/home/yihsin/MidiStyleTransfer/dataset/gp-piano-parsed/ 2-eh1_yu6Vg.pkl', '/home/yihsin/MidiStyleTransfer/dataset/gp-piano-parsed/ 3JVYh1ZX78c.pkl', '/home/yihsin/MidiStyleTransfer/dataset/gp-piano-parsed/ 3M_Bf7iwPlA.pkl', '/home/yihsin/MidiStyleTransfer/dataset/gp-piano-parsed/ 3p_0SLgf7yU.pkl', '/home/yihsin/MidiStyleTransfer/dataset/gp-piano-parsed/ 4nOY7cvHFcI.pkl', '/home/yihsin/MidiStyleTransfer/dataset/gp-piano-parsed/ 4p05T6WeAY0.pkl', '/home/yihsin/MidiStyleTransfer/dataset/gp-piano-parsed/ 4tb4_ngGAzE.pkl', '/home/yihsin/MidiStyleTransfer/dataset/gp-piano-parsed/ 5Y6D4Y17SVo.pkl', '/home/yihsin/MidiStyleTransfer/dataset/gp-piano-parsed/ 5qfTOKrfzdU.pkl', '/home/yihsin/MidiStyleTransfer/dataset/gp-piano-parsed/ 6ZlsbHOsRiY.pkl', '/home/yihsin/MidiStyleTransfer/dataset/gp-piano-parsed/ 6n3n6Ouw_4c.pkl', '/home/yihsin/MidiStyleTransfer/dataset/gp-piano-parsed/ 7Dc3en1ntpM.pkl', '/home/yihsin/MidiStyleTransfer/dataset/gp-piano-parsed/ 88dJlWFuTYg.pkl', '/home/yihsin/MidiStyleTransfer/dataset/gp-piano-parsed/ AZKif28jMUg.pkl', '/home/yihsin/MidiStyleTransfer/dataset/gp-piano-parsed/ BHZvrFruBF8.pkl', '/home/yihsin/MidiStyleTransfer/dataset/gp-piano-parsed/ Bku5wYGkCFg.pkl', '/home/yihsin/MidiStyleTransfer/dataset/gp-piano-parsed/ Dy_7dXtdPzc.pkl', '/home/yihsin/MidiStyleTransfer/dataset/gp-piano-parsed/ E_AdANlUWd4.pkl', '/home/yihsin/MidiStyleTransfer/dataset/gp-piano-parsed/ F1lajYAtdGg.pkl', '/home/yihsin/MidiStyleTransfer/dataset/gp-piano-parsed/ FU0jr1obOao.pkl', '/home/yihsin/MidiStyleTransfer/dataset/gp-piano-parsed/ Fa8Wqn2fDaA.pkl', '/home/yihsin/MidiStyleTransfer/dataset/gp-piano-parsed/ Fr5e2c9AJvA.pkl', '/home/yihsin/MidiStyleTransfer/dataset/gp-piano-parsed/ H9gzsY9jIx4.pkl', '/home/yihsin/MidiStyleTransfer/dataset/gp-piano-parsed/ Hu0TihVQnaY.pkl', '/home/yihsin/MidiStyleTransfer/dataset/gp-piano-parsed/ I69tdLLbIyw.pkl', '/home/yihsin/MidiStyleTransfer/dataset/gp-piano-parsed/ I8tDTeajtCs.pkl', '/home/yihsin/MidiStyleTransfer/dataset/gp-piano-parsed/ IN5Ma07uT5M.pkl', '/home/yihsin/MidiStyleTransfer/dataset/gp-piano-parsed/ IY0KTBQD3bQ.pkl', '/home/yihsin/MidiStyleTransfer/dataset/gp-piano-parsed/ JPKNAbVDjA0.pkl', '/home/yihsin/MidiStyleTransfer/dataset/gp-piano-parsed/ Jc9cDqnAlZo.pkl', '/home/yihsin/MidiStyleTransfer/dataset/gp-piano-parsed/ K_85VWhfSRA.pkl', '/home/yihsin/MidiStyleTransfer/dataset/gp-piano-parsed/ KsKOAaVHp_o.pkl', '/home/yihsin/MidiStyleTransfer/dataset/gp-piano-parsed/ LX1NdbKI9BE.pkl', '/home/yihsin/MidiStyleTransfer/dataset/gp-piano-parsed/ Lb3tUPg7p_s.pkl', '/home/yihsin/MidiStyleTransfer/dataset/gp-piano-parsed/ Ln99yU7WNr0.pkl', '/home/yihsin/MidiStyleTransfer/dataset/gp-piano-parsed/ N8SsvLjnwf4.pkl', '/home/yihsin/MidiStyleTransfer/dataset/gp-piano-parsed/ OCnENbenhzw.pkl', '/home/yihsin/MidiStyleTransfer/dataset/gp-piano-parsed/ OqFDs-QqSho.pkl', '/home/yihsin/MidiStyleTransfer/dataset/gp-piano-parsed/ PY4xmntLt88.pkl', '/home/yihsin/MidiStyleTransfer/dataset/gp-piano-parsed/ PgKQLV7hfv4.pkl', '/home/yihsin/MidiStyleTransfer/dataset/gp-piano-parsed/ PtIRqWiihT0.pkl', '/home/yihsin/MidiStyleTransfer/dataset/gp-piano-parsed/ QEqBamNZDEE.pkl', '/home/yihsin/MidiStyleTransfer/dataset/gp-piano-parsed/ R0nZjkh-U7I.pkl', '/home/yihsin/MidiStyleTransfer/dataset/gp-piano-parsed/ R4IzqJtD4dM.pkl', '/home/yihsin/MidiStyleTransfer/dataset/gp-piano-parsed/ RjAQLU23keI.pkl', '/home/yihsin/MidiStyleTransfer/dataset/gp-piano-parsed/ TMkoMyjSZRc.pkl', '/home/yihsin/MidiStyleTransfer/dataset/gp-piano-parsed/ TxtD9nBmNHI.pkl', '/home/yihsin/MidiStyleTransfer/dataset/gp-piano-parsed/ UNMeJXzIajU.pkl', '/home/yihsin/MidiStyleTransfer/dataset/gp-piano-parsed/ UeXbygrzXrQ.pkl', '/home/yihsin/MidiStyleTransfer/dataset/gp-piano-parsed/ Ugc5FZsycAw.pkl', '/home/yihsin/MidiStyleTransfer/dataset/gp-piano-parsed/ UuMdUG-eZtk.pkl', '/home/yihsin/MidiStyleTransfer/dataset/gp-piano-parsed/ VNG8Jmz5zqI.pkl', '/home/yihsin/MidiStyleTransfer/dataset/gp-piano-parsed/ WKNfd8GzFjw.pkl', '/home/yihsin/MidiStyleTransfer/dataset/gp-piano-parsed/ WLzcq-5jNy4.pkl', '/home/yihsin/MidiStyleTransfer/dataset/gp-piano-parsed/ W_ZWH7wGB1M.pkl', '/home/yihsin/MidiStyleTransfer/dataset/gp-piano-parsed/ WkybC_k5GiQ.pkl', '/home/yihsin/MidiStyleTransfer/dataset/gp-piano-parsed/ X9Z_FVjMSWc.pkl', '/home/yihsin/MidiStyleTransfer/dataset/gp-piano-parsed/ XCh0k-jsCiY.pkl', '/home/yihsin/MidiStyleTransfer/dataset/gp-piano-parsed/ XeRe4AeXWQ8.pkl', '/home/yihsin/MidiStyleTransfer/dataset/gp-piano-parsed/ Y9KHhjUwG14.pkl', '/home/yihsin/MidiStyleTransfer/dataset/gp-piano-parsed/ YyCQ61sisds.pkl', '/home/yihsin/MidiStyleTransfer/dataset/gp-piano-parsed/ Z-c8WG2GTaI.pkl', '/home/yihsin/MidiStyleTransfer/dataset/gp-piano-parsed/ Z1fZ54Ho1nw.pkl', '/home/yihsin/MidiStyleTransfer/dataset/gp-piano-parsed/ ZltFnDMfusw.pkl', '/home/yihsin/MidiStyleTransfer/dataset/gp-piano-parsed/ _HKagOA4SFM.pkl', '/home/yihsin/MidiStyleTransfer/dataset/gp-piano-parsed/ _Jv3YYjHnqc.pkl', '/home/yihsin/MidiStyleTransfer/dataset/gp-piano-parsed/ aYPld96pzR4.pkl', '/home/yihsin/MidiStyleTransfer/dataset/gp-piano-parsed/ aecenXn3obw.pkl', '/home/yihsin/MidiStyleTransfer/dataset/gp-piano-parsed/ bfjaxVZPpHc.pkl', '/home/yihsin/MidiStyleTransfer/dataset/gp-piano-parsed/ bp4Y8buWb3k.pkl', '/home/yihsin/MidiStyleTransfer/dataset/gp-piano-parsed/ cpgCkQXmz8g.pkl', '/home/yihsin/MidiStyleTransfer/dataset/gp-piano-parsed/ d4J6MNqdbr0.pkl', '/home/yihsin/MidiStyleTransfer/dataset/gp-piano-parsed/ dT7FnwO40cQ.pkl', '/home/yihsin/MidiStyleTransfer/dataset/gp-piano-parsed/ dTEYwfgWFD0.pkl', '/home/yihsin/MidiStyleTransfer/dataset/gp-piano-parsed/ eT0Qcf4C0fI.pkl', '/home/yihsin/MidiStyleTransfer/dataset/gp-piano-parsed/ gCL5Zvnt0TU.pkl', '/home/yihsin/MidiStyleTransfer/dataset/gp-piano-parsed/ gNlXYLsC_Vs.pkl', '/home/yihsin/MidiStyleTransfer/dataset/gp-piano-parsed/ iI5lzwX785Y.pkl', '/home/yihsin/MidiStyleTransfer/dataset/gp-piano-parsed/ jVHqIK13-nk.pkl', '/home/yihsin/MidiStyleTransfer/dataset/gp-piano-parsed/ jmJ0gv2xNUo.pkl', '/home/yihsin/MidiStyleTransfer/dataset/gp-piano-parsed/ kPQ42cP09pM.pkl', '/home/yihsin/MidiStyleTransfer/dataset/gp-piano-parsed/ lHTMq-5B9Co.pkl', '/home/yihsin/MidiStyleTransfer/dataset/gp-piano-parsed/ lJCpUW1Q1yc.pkl', '/home/yihsin/MidiStyleTransfer/dataset/gp-piano-parsed/ ldNuMYFVcvE.pkl', '/home/yihsin/MidiStyleTransfer/dataset/gp-piano-parsed/ mCCux8jvhkA.pkl', '/home/yihsin/MidiStyleTransfer/dataset/gp-piano-parsed/ nTY1tN7aoCw.pkl', '/home/yihsin/MidiStyleTransfer/dataset/gp-piano-parsed/ ntLGHRX5XOE.pkl', '/home/yihsin/MidiStyleTransfer/dataset/gp-piano-parsed/ oZQQxIXiqN8.pkl', '/home/yihsin/MidiStyleTransfer/dataset/gp-piano-parsed/ p1gGxpitLO8.pkl', '/home/yihsin/MidiStyleTransfer/dataset/gp-piano-parsed/ p6zdhYloTnI.pkl', '/home/yihsin/MidiStyleTransfer/dataset/gp-piano-parsed/ qmorlhskYNI.pkl', '/home/yihsin/MidiStyleTransfer/dataset/gp-piano-parsed/ r9UOPtkJido.pkl', '/home/yihsin/MidiStyleTransfer/dataset/gp-piano-parsed/ uPOZKPBVhLM.pkl', '/home/yihsin/MidiStyleTransfer/dataset/gp-piano-parsed/ uzxi8MbDqfM.pkl', '/home/yihsin/MidiStyleTransfer/dataset/gp-piano-parsed/ vPG1HlJ1_UE.pkl', '/home/yihsin/MidiStyleTransfer/dataset/gp-piano-parsed/ wdd10j7RIao.pkl', '/home/yihsin/MidiStyleTransfer/dataset/gp-piano-parsed/ whfkzyoRau8.pkl', '/home/yihsin/MidiStyleTransfer/dataset/gp-piano-parsed/ xS0lss7ogNI.pkl', '/home/yihsin/MidiStyleTransfer/dataset/gp-piano-parsed/ yB53rd_nFBQ.pkl', '/home/yihsin/MidiStyleTransfer/dataset/gp-piano-parsed/ yPxxH2EOQu8.pkl', '/home/yihsin/MidiStyleTransfer/dataset/gp-piano-parsed/ zYccvhhTmNw.pkl', '/home/yihsin/MidiStyleTransfer/dataset/gp-piano-parsed/ zdD_QygwRuY.pkl']\n",
      "[preparing data] now at #0\n"
     ]
    }
   ],
   "source": [
    "val_dset = REMISkylineToMidiTransformerDataset(\n",
    "    train_conf['data_loader']['data_path'],\n",
    "    train_conf['data_loader']['vocab_path'], \n",
    "    do_augment=False, \n",
    "    model_dec_seqlen=train_conf['model']['max_len'], \n",
    "    pieces=pickle_load(train_split),\n",
    "    pad_to_same=True,\n",
    "    use_chord_mhot=use_chord_emb,\n",
    "    composer_split=[\"Bach_JohannSebastian\"], \n",
    "    composer_split_path=split_pth\n",
    "  )"
   ]
  }
 ],
 "metadata": {
  "kernelspec": {
   "display_name": "cne",
   "language": "python",
   "name": "python3"
  },
  "language_info": {
   "codemirror_mode": {
    "name": "ipython",
    "version": 3
   },
   "file_extension": ".py",
   "mimetype": "text/x-python",
   "name": "python",
   "nbconvert_exporter": "python",
   "pygments_lexer": "ipython3",
   "version": "3.10.16"
  }
 },
 "nbformat": 4,
 "nbformat_minor": 2
}
